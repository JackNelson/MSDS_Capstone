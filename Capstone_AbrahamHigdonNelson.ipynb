{
 "cells": [
  {
   "cell_type": "markdown",
   "metadata": {},
   "source": [
    "<h1><center>Capstone Project: Title TBD</center></h1>\n",
    "<h2><center>Master of Science in Data Science  \n",
    "    Southern Methodist University</center></h2>"
   ]
  },
  {
   "cell_type": "markdown",
   "metadata": {},
   "source": [
    "Punchlist of Items:\n",
    "- DailyAggr on raw .csv files\n",
    "- VADER results on daily .csv files (X)\n",
    "- CoinAPI for price data (y)\n",
    "- brief analysis and results (distributions, timeline line chart, confusion matrix, correlation/hypothesis testing) \n",
    "- CoinAPI (explained, not executed) for historical tweets\n",
    "- brief analysis and results using same methods as prior analysis\n",
    "- Transition shift to googletrends and tweet volume data\n",
    "- webscrapping programs to gather data from sources listed above\n",
    "- analysis and results, compared to those generated using Sentiment Analysis"
   ]
  },
  {
   "cell_type": "markdown",
   "metadata": {},
   "source": [
    "<h3>Introduction</h3>  \n",
    "Insert formal documentation/explaination from paper\n",
    "\n",
    "<h3>Statement of Work to Follow</h3>  \n",
    "Insert formal documentation/explaination from paper"
   ]
  },
  {
   "cell_type": "markdown",
   "metadata": {},
   "source": [
    "<h3> Data Aggregation </h3>"
   ]
  },
  {
   "cell_type": "code",
   "execution_count": null,
   "metadata": {},
   "outputs": [],
   "source": [
    "%run -i 'DailyAggr.py'"
   ]
  },
  {
   "cell_type": "markdown",
   "metadata": {},
   "source": [
    "<h3> VADER Sentiment/Polarity Analysis </h3>"
   ]
  },
  {
   "cell_type": "code",
   "execution_count": null,
   "metadata": {},
   "outputs": [],
   "source": [
    "%run -i 'Sentiment_VADER.py'"
   ]
  },
  {
   "cell_type": "code",
   "execution_count": null,
   "metadata": {},
   "outputs": [],
   "source": [
    "sentiment_BTC = DailySentiment('Bitcoin', 'csv_daily')\n",
    "sentiment_BTC.compileSentiments()\n",
    "\n",
    "sentiment_ETH = DailySentiment('ETH', 'csv_daily')\n",
    "sentiment_ETH.compileSentiments()"
   ]
  },
  {
   "cell_type": "markdown",
   "metadata": {},
   "source": [
    "<h3> Price Data via CoinAPI.io </h3>"
   ]
  },
  {
   "cell_type": "code",
   "execution_count": null,
   "metadata": {},
   "outputs": [],
   "source": [
    "%run -i 'CoinAPI.py'"
   ]
  },
  {
   "cell_type": "code",
   "execution_count": null,
   "metadata": {},
   "outputs": [],
   "source": [
    "api = CoinAPI('XXXXXXXX-XXXX-XXXX-XXXX-XXXXXXXXXXXX')\n",
    "time_start = '2017-01-01T00:00:00'\n",
    "time_end = '2018-05-01T00:00:00'\n",
    "\n",
    "filename = 'BTC_price_20170101_20180501.txt'\n",
    "price_data_BTC = api.getHistOHLCV(symbol_id='BITSTAMP_SPOT_BTC_USD', time_start=time_start, time_end=time_end)\n",
    "api.saveHistOHLCV(filename)\n",
    "\n",
    "filename = 'ETH_price_20170101_20180501.txt'\n",
    "price_data_ETH = api.getHistOHLCV(symbol_id='BITSTAMP_SPOT_ETH_USD', time_start=time_start, time_end=time_end)\n",
    "api.saveHistOHLCV(filename)"
   ]
  },
  {
   "cell_type": "markdown",
   "metadata": {},
   "source": [
    "<h3>Analysis of Sentiments to Predict Price</h3>"
   ]
  },
  {
   "cell_type": "code",
   "execution_count": 1,
   "metadata": {},
   "outputs": [],
   "source": [
    "# TBD will fill in later"
   ]
  },
  {
   "cell_type": "markdown",
   "metadata": {},
   "source": [
    "<h3> Aquiring Supplemental Dataset using CoinAPI.io </h3>"
   ]
  },
  {
   "cell_type": "markdown",
   "metadata": {},
   "source": [
    "<h3> VADER Sentiment/Polarity Analysis on New Dataset</h3>"
   ]
  },
  {
   "cell_type": "code",
   "execution_count": null,
   "metadata": {},
   "outputs": [],
   "source": [
    "sentiment_BTC = DailySentiment('Bitcoin', 'coin_tweets')\n",
    "sentiment_BTC.compileSentiments()\n",
    "\n",
    "sentiment_ETH = DailySentiment('ETH', 'coin_tweets')\n",
    "sentiment_ETH.compileSentiments()"
   ]
  },
  {
   "cell_type": "markdown",
   "metadata": {},
   "source": [
    "<h3>Analysis of New Sentiments to Predict Price</h3>"
   ]
  },
  {
   "cell_type": "code",
   "execution_count": 1,
   "metadata": {},
   "outputs": [],
   "source": [
    "# TBD will fill in later"
   ]
  },
  {
   "cell_type": "markdown",
   "metadata": {},
   "source": [
    "<h3> Gathering and Normalizing GoogleTrends data </h3>"
   ]
  },
  {
   "cell_type": "code",
   "execution_count": 2,
   "metadata": {},
   "outputs": [],
   "source": [
    "# TBD will fill in later"
   ]
  },
  {
   "cell_type": "markdown",
   "metadata": {},
   "source": [
    "<h3> Gathering Tweet Volumes via BitInfoCharts</h3>"
   ]
  },
  {
   "cell_type": "code",
   "execution_count": 4,
   "metadata": {},
   "outputs": [],
   "source": [
    "# TBD will fill in later"
   ]
  },
  {
   "cell_type": "markdown",
   "metadata": {},
   "source": [
    "<h3> Analysis of Internet Popularity to Predict Price </h3>"
   ]
  },
  {
   "cell_type": "code",
   "execution_count": 5,
   "metadata": {},
   "outputs": [],
   "source": [
    "# TBD will fill in later"
   ]
  },
  {
   "cell_type": "markdown",
   "metadata": {},
   "source": [
    "<h3> Conclusions </h3>"
   ]
  },
  {
   "cell_type": "code",
   "execution_count": null,
   "metadata": {},
   "outputs": [],
   "source": [
    "# TBD will fill in later"
   ]
  }
 ],
 "metadata": {
  "kernelspec": {
   "display_name": "Python 2",
   "language": "python",
   "name": "python2"
  },
  "language_info": {
   "codemirror_mode": {
    "name": "ipython",
    "version": 2
   },
   "file_extension": ".py",
   "mimetype": "text/x-python",
   "name": "python",
   "nbconvert_exporter": "python",
   "pygments_lexer": "ipython2",
   "version": "2.7.14"
  }
 },
 "nbformat": 4,
 "nbformat_minor": 2
}
