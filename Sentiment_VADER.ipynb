{
 "cells": [
  {
   "cell_type": "code",
   "execution_count": 17,
   "metadata": {
    "scrolled": true
   },
   "outputs": [
    {
     "name": "stdout",
     "output_type": "stream",
     "text": [
      "Collecting tweet-preprocessor\n",
      "  Downloading tweet-preprocessor-0.5.0.tar.gz\n",
      "Building wheels for collected packages: tweet-preprocessor\n",
      "  Running setup.py bdist_wheel for tweet-preprocessor ... \u001b[?25ldone\n",
      "\u001b[?25h  Stored in directory: /Users/JackNelson/Library/Caches/pip/wheels/64/d9/5c/c72815d52f5770f229b909840516fd7a36e11bd57d4b8f28dd\n",
      "Successfully built tweet-preprocessor\n",
      "Installing collected packages: tweet-preprocessor\n",
      "Successfully installed tweet-preprocessor-0.5.0\n"
     ]
    }
   ],
   "source": [
    "#!pip install tweet-preprocessor      "
   ]
  },
  {
   "cell_type": "code",
   "execution_count": 1,
   "metadata": {},
   "outputs": [
    {
     "name": "stdout",
     "output_type": "stream",
     "text": [
      "<class 'pandas.core.frame.DataFrame'>\n",
      "RangeIndex: 71948 entries, 0 to 71947\n",
      "Data columns (total 15 columns):\n",
      "Unnamed: 0              71948 non-null int64\n",
      "id                      71948 non-null int64\n",
      "text                    71948 non-null object\n",
      "created_at              71948 non-null object\n",
      "retweet_count           71948 non-null int64\n",
      "favorite_count          71948 non-null int64\n",
      "source                  71948 non-null object\n",
      "user_id                 71948 non-null int64\n",
      "user_screen_name        71948 non-null object\n",
      "user_name               71947 non-null object\n",
      "user_created_at         71948 non-null object\n",
      "user_description        52057 non-null object\n",
      "user_followers_count    71948 non-null int64\n",
      "user_friends_count      71948 non-null int64\n",
      "user_location           41961 non-null object\n",
      "dtypes: int64(7), object(8)\n",
      "memory usage: 8.2+ MB\n",
      "None\n"
     ]
    }
   ],
   "source": [
    "import pandas as pd\n",
    "df = pd.read_csv('data/csv_daily/Bitcoin/20180305.csv',lineterminator='\\n')\n",
    "#print df.head(5)\n",
    "print df.info()"
   ]
  },
  {
   "cell_type": "code",
   "execution_count": 2,
   "metadata": {},
   "outputs": [
    {
     "name": "stderr",
     "output_type": "stream",
     "text": [
      "/Users/JackNelson/anaconda2/lib/python2.7/site-packages/nltk/twitter/__init__.py:20: UserWarning: The twython library has not been installed. Some functionality from the twitter package will not be available.\n",
      "  warnings.warn(\"The twython library has not been installed. \"\n"
     ]
    }
   ],
   "source": [
    "import pandas as pd\n",
    "import preprocessor as p\n",
    "from nltk.tokenize import TweetTokenizer\n",
    "from nltk.sentiment.vader import SentimentIntensityAnalyzer\n",
    "\n",
    "class DailySentiment:\n",
    "    def __init__(self):\n",
    "        # instantiate tweet tokenizer from nltk.tokenize, set to remove handles and reduce repeating characters\n",
    "        self._tweetProcessor = TweetTokenizer(strip_handles=False, reduce_len=True)\n",
    "        # instantiate sentiment intensity analyzer from nltk.sentiment.vader\n",
    "        self._vaderAnalyzer = SentimentIntensityAnalyzer()\n",
    "    \n",
    "    # external function to return average VADER polarity score\n",
    "    def getDailySentiment(self, df, keyword):\n",
    "        scores = self.getSentimentScores(df, keyword)\n",
    "        \n",
    "        avg_scores = {'neg': sum(score['neg'] for score in scores) / len(scores),\n",
    "                      'neu': sum(score['neu'] for score in scores) / len(scores),\n",
    "                      'pos': sum(score['pos'] for score in scores) / len(scores),\n",
    "                      'compound': sum(score['compound'] for score in scores) / len(scores)}\n",
    "        return avg_scores\n",
    "    \n",
    "    # external function to return a list of VADER polarity scores \n",
    "    def getSentimentScores(self, df, keyword):\n",
    "        #df = self._filterTweets(df, keyword)\n",
    "        df = self._removeNoninfluencers(df)\n",
    "        \n",
    "        list_of_tweets = df.text\n",
    "        scores = []\n",
    "        for tweet in list_of_tweets:\n",
    "            tweet = self._cleanTweet(tweet)\n",
    "            scores.append(self._vaderAnalyzer.polarity_scores(tweet))\n",
    "        return scores        \n",
    "    \n",
    "    # internal crosscheck function to remove tweets without keyword (BUG FIX) \n",
    "    def _filterTweets(self, df, keyword):\n",
    "        df_filtered = df[df.text.str.contains(keyword)]\n",
    "        return df_filtered\n",
    "        \n",
    "    # internal function to remove tweets from users below a follower threshold    \n",
    "    def _removeNoninfluencers(self, df, min_follower = 100):\n",
    "        df_filtered = df[df.user_followers_count > min_follower]\n",
    "        return df_filtered\n",
    "    \n",
    "    # internal text preprocessing function\n",
    "    def _cleanTweet(self, tweet):\n",
    "        # set preprocessor to remove links, mentions, and reserved words (FAV, RT, etc.)\n",
    "        p.set_options(p.OPT.URL, p.OPT.MENTION, p.OPT.RESERVED)\n",
    "        # clean tweet with preprocessor and remove hashtags\n",
    "        tweet = p.clean(tweet.translate(None, \"#?\"))\n",
    "        # tokenize tweet\n",
    "        #tweet = self._tweetProcessor.tokenize(tweet)\n",
    "        # ...to put in, further filter punctuation and reconstruct tweet\n",
    "        return tweet    "
   ]
  },
  {
   "cell_type": "code",
   "execution_count": 3,
   "metadata": {},
   "outputs": [],
   "source": [
    "import os\n",
    "import re\n",
    "    \n",
    "class SentimentsPerDay:\n",
    "    def __init__(self, crypto):\n",
    "        # assign folder_name to class\n",
    "        self.crypto = crypto\n",
    "        # instantiate DailySentiment class\n",
    "        self._dailySentiment = DailySentiment()\n",
    "        \n",
    "    # external function returning list of sentiment scores for each file in folder    \n",
    "    def getSentimentsPerDay(self):\n",
    "        _files = self.getFiles()\n",
    "        \n",
    "        daily_sentiments = []    \n",
    "        for _file in _files:\n",
    "            path = \"data/csv_daily/\" + self.crypto + \"/\" +_file\n",
    "            df = pd.read_csv(path,lineterminator='\\n')\n",
    "            daily_sentiments.append(self._dailySentiment.getDailySentiment(df, self.crypto))\n",
    "                \n",
    "        return daily_sentiments\n",
    "            \n",
    "    # internal function extracting list of csv files in folder\n",
    "    def getFiles(self):\n",
    "        # construct folder path where files reside\n",
    "        folder_name = \"/data/csv_daily/\"\n",
    "        path = str(os.getcwd()) + folder_name + self.crypto\n",
    "        # using regex expression to only take file_names (instead of full paths)\n",
    "        reg = re.compile(\"\\d{8}\")\n",
    "            \n",
    "        # loop to generate list of all files in folder that fit naming convention\n",
    "        _files = []\n",
    "        for csv_path in os.listdir(path):\n",
    "            if reg.search(csv_path):\n",
    "                 _files.append(csv_path)\n",
    "        return _files          "
   ]
  },
  {
   "cell_type": "code",
   "execution_count": 4,
   "metadata": {
    "scrolled": false
   },
   "outputs": [
    {
     "name": "stdout",
     "output_type": "stream",
     "text": [
      "[{'neg': 0.0393967494775947, 'neu': 0.8447992570234552, 'pos': 0.1142731831901553, 'compound': 0.17353790573485162}, {'neg': 0.03964720110573581, 'neu': 0.8500682446441017, 'pos': 0.10904236735007283, 'compound': 0.15622846694309334}, {'neg': 0.03735097416598087, 'neu': 0.8532178054804024, 'pos': 0.1066073934689718, 'compound': 0.15919919636206742}, {'neg': 0.07538703792606548, 'neu': 0.7961711633862218, 'pos': 0.1267188670187298, 'compound': 0.12716803008481478}, {'neg': 0.04707606255749647, 'neu': 0.8369510579577061, 'pos': 0.11520673413064011, 'compound': 0.1602497755289798}, {'neg': 0.042505679427850294, 'neu': 0.849585443836765, 'pos': 0.10690769877997525, 'compound': 0.14733253681110572}, {'neg': 0.04847995986828549, 'neu': 0.8437849608972879, 'pos': 0.10539419119160132, 'compound': 0.1334963186869737}, {'neg': 0.04116663181374561, 'neu': 0.8584393384916128, 'pos': 0.09934657744319347, 'compound': 0.13066999686323907}, {'neg': 0.03740925985932955, 'neu': 0.8617062691801851, 'pos': 0.09892042010559848, 'compound': 0.1436752339744212}, {'neg': 0.034475774265644646, 'neu': 0.854074513090689, 'pos': 0.1106867416985951, 'compound': 0.16559825989782856}, {'neg': 0.045945168993387075, 'neu': 0.8416923677443087, 'pos': 0.11066564107273884, 'compound': 0.14434045279206392}, {'neg': 0.0416103356103356, 'neu': 0.8352999702999719, 'pos': 0.11149539649539679, 'compound': 0.16400454410454327}, {'neg': 0.04003084112149533, 'neu': 0.8591252336448593, 'pos': 0.09804205607476635, 'compound': 0.14278289719626158}, {'neg': 0.035042603849136725, 'neu': 0.8370619036452936, 'pos': 0.12679266247000448, 'compound': 0.2150514799516768}, {'neg': 0.05259963931469835, 'neu': 0.8397090171325902, 'pos': 0.10651636609557782, 'compound': 0.12687973399459773}, {'neg': 0.0427196050775741, 'neu': 0.8405882651622044, 'pos': 0.11432135401974529, 'compound': 0.16356545557122792}, {'neg': 0.053110916431781945, 'neu': 0.8440220156928495, 'pos': 0.1024023006018127, 'compound': 0.1089965186257332}, {'neg': 0.03535035925509585, 'neu': 0.8543168776577637, 'pos': 0.10832709321081271, 'compound': 0.17055426951464064}, {'neg': 0.035770880662835756, 'neu': 0.8527595215822562, 'pos': 0.10960343445142368, 'compound': 0.165715809167446}, {'neg': 0.03054716410690514, 'neu': 0.8586258918853652, 'pos': 0.1098004595477076, 'compound': 0.17486270407546337}]\n"
     ]
    }
   ],
   "source": [
    "BitcoinDailyAnalyzer = SentimentsPerDay('Bitcoin')\n",
    "BitcoinSentiments = BitcoinDailyAnalyzer.getSentimentsPerDay()\n",
    "print BitcoinSentiments"
   ]
  },
  {
   "cell_type": "code",
   "execution_count": 5,
   "metadata": {},
   "outputs": [
    {
     "name": "stdout",
     "output_type": "stream",
     "text": [
      "[{'neg': 0.018531067086897828, 'neu': 0.8603886762719519, 'pos': 0.12097028365601079, 'compound': 0.2369396330481766}, {'neg': 0.014696297883563043, 'neu': 0.8469636711281255, 'pos': 0.13820186918968827, 'compound': 0.28987797356102313}, {'neg': 0.013949451236568907, 'neu': 0.8428102611357008, 'pos': 0.14286645385285804, 'compound': 0.2978536735063535}, {'neg': 0.014237259624574549, 'neu': 0.8465348090377315, 'pos': 0.13869388691363832, 'compound': 0.28275477310090397}, {'neg': 0.018613344189235406, 'neu': 0.8295216403839323, 'pos': 0.15132482002055925, 'compound': 0.30254334504628005}, {'neg': 0.00929735563950351, 'neu': 0.8446602806260162, 'pos': 0.14577792768483572, 'compound': 0.3279090933621181}, {'neg': 0.01706418039895924, 'neu': 0.8286973113616647, 'pos': 0.15337814397224603, 'compound': 0.3321795316565477}, {'neg': 0.016499752218047992, 'neu': 0.8170899688274395, 'pos': 0.16603160418829868, 'compound': 0.34961052194072667}, {'neg': 0.02084303451418153, 'neu': 0.8251218627785548, 'pos': 0.15366932452443693, 'compound': 0.30768571021759444}, {'neg': 0.01943295992033874, 'neu': 0.8458776201145097, 'pos': 0.13448907144635053, 'compound': 0.268430794124976}, {'neg': 0.013954333265678841, 'neu': 0.864741424802122, 'pos': 0.12028103646573425, 'compound': 0.26113856978554484}, {'neg': 0.013108833296435656, 'neu': 0.8470696922736626, 'pos': 0.13946012840381167, 'compound': 0.29618771751161693}, {'neg': 0.017238660558745792, 'neu': 0.8449125750048404, 'pos': 0.13752693722175657, 'compound': 0.2933696625588728}, {'neg': 0.017592989985693797, 'neu': 0.8393639815120654, 'pos': 0.14299075602508962, 'compound': 0.29606197314844834}]\n"
     ]
    }
   ],
   "source": [
    "ETHDailyAnalyzer = SentimentsPerDay('ETH')\n",
    "ETHSentiments = ETHDailyAnalyzer.getSentimentsPerDay()\n",
    "print ETHSentiments"
   ]
  },
  {
   "cell_type": "code",
   "execution_count": 6,
   "metadata": {},
   "outputs": [
    {
     "name": "stdout",
     "output_type": "stream",
     "text": [
      "[{'neg': 0.024834301842935363, 'neu': 0.8430667441474328, 'pos': 0.10562925452432341, 'compound': 0.1945591316619632}, {'neg': 0.027358611273648522, 'neu': 0.847177316169312, 'pos': 0.10801605227228521, 'compound': 0.1794554612833978}, {'neg': 0.03104603938903728, 'neu': 0.8426702056282497, 'pos': 0.10957112128508205, 'compound': 0.17080934996251523}, {'neg': 0.041526999558109436, 'neu': 0.8269417587273801, 'pos': 0.1001255413168387, 'compound': 0.14185942112240194}, {'neg': 0.041842739378566696, 'neu': 0.84382133798353, 'pos': 0.10202980342422281, 'compound': 0.13580186535616234}, {'neg': 0.029736598279285206, 'neu': 0.8239334877564535, 'pos': 0.14103209794837995, 'compound': 0.23855463269358132}, {'neg': 0.02964543726235744, 'neu': 0.8047005703422034, 'pos': 0.1504581749049431, 'compound': 0.3134207224334604}, {'neg': 0.03120087002527736, 'neu': 0.8315574432230167, 'pos': 0.13361844296826653, 'compound': 0.2520913213019183}, {'neg': 0.03881289103712249, 'neu': 0.8405954314596397, 'pos': 0.1138823760335663, 'compound': 0.16170152857179612}, {'neg': 0.03355852805056995, 'neu': 0.8333532001354743, 'pos': 0.1173974489220007, 'compound': 0.1909728637543733}, {'neg': 0.01799340577691097, 'neu': 0.8420555400761597, 'pos': 0.10334810067799859, 'compound': 0.198592226246863}, {'neg': 0.02630469253257998, 'neu': 0.8505035429364567, 'pos': 0.11496392646548935, 'compound': 0.2171585005698456}, {'neg': 0.02757786985132839, 'neu': 0.869487204484516, 'pos': 0.09848850434641228, 'compound': 0.16164093752538797}, {'neg': 0.02692256101347553, 'neu': 0.8508430106191482, 'pos': 0.09516233000061858, 'compound': 0.14526013786251282}]\n"
     ]
    }
   ],
   "source": [
    "RippleDailyAnalyzer = SentimentsPerDay('Ripple')\n",
    "RippleSentiments = RippleDailyAnalyzer.getSentimentsPerDay()\n",
    "print RippleSentiments"
   ]
  },
  {
   "cell_type": "code",
   "execution_count": 9,
   "metadata": {},
   "outputs": [
    {
     "data": {
      "image/png": "[encoded data removed]",
      "text/plain": [
       "<matplotlib.figure.Figure at 0x111da8490>"
      ]
     },
     "metadata": {},
     "output_type": "display_data"
    }
   ],
   "source": [
    "import matplotlib.pyplot as plt\n",
    "%matplotlib inline\n",
    "\n",
    "#plt.hist([score['neg'] for score in scores])\n",
    "#plt.show()\n",
    "\n",
    "f, (ax1, ax2, ax3, ax4) = plt.subplots(1, 4, sharey=True, figsize=(20,4))\n",
    "#f.figsize(15,15)\n",
    "ax1.hist([score['neg'] for score in scores])\n",
    "ax1.set_title('NEG')\n",
    "ax2.hist([score['neu'] for score in scores])\n",
    "ax2.set_title('NEU')\n",
    "ax3.hist([score['pos'] for score in scores])\n",
    "ax3.set_title('POS')\n",
    "ax4.hist([score['compound'] for score in scores])\n",
    "ax4.set_title('COMPOUND')\n",
    "plt.show()"
   ]
  },
  {
   "cell_type": "code",
   "execution_count": null,
   "metadata": {},
   "outputs": [],
   "source": []
  }
 ],
 "metadata": {
  "kernelspec": {
   "display_name": "Python 3",
   "language": "python",
   "name": "python3"
  },
  "language_info": {
   "codemirror_mode": {
    "name": "ipython",
    "version": 2
   },
   "file_extension": ".py",
   "mimetype": "text/x-python",
   "name": "python",
   "nbconvert_exporter": "python",
   "pygments_lexer": "ipython2",
   "version": "2.7.14"
  }
 },
 "nbformat": 4,
 "nbformat_minor": 2
}
